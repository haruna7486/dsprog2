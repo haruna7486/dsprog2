{
 "cells": [
  {
   "cell_type": "code",
   "execution_count": 11,
   "metadata": {},
   "outputs": [],
   "source": [
    "import sqlite3\n",
    "import requests\n",
    "import json\n",
    "\n",
    "\n",
    "# DBファイルを保存するファイルパス\n",
    "# Google Colab\n",
    "path = 'jma'\n",
    "\n",
    "# DBファイル名\n",
    "db_name = 'Dsprog2.db'\n",
    "# db_name = 'dsprg2.sqlite'\n",
    "\n",
    "# DBに接続する（DBファイルが存在しない場合は，新規に作成される）\n",
    "con = sqlite3.connect(path + db_name)\n",
    "\n",
    "\n",
    "# DBへの接続を閉じる\n",
    "con.close()"
   ]
  }
 ],
 "metadata": {
  "kernelspec": {
   "display_name": ".venv",
   "language": "python",
   "name": "python3"
  },
  "language_info": {
   "codemirror_mode": {
    "name": "ipython",
    "version": 3
   },
   "file_extension": ".py",
   "mimetype": "text/x-python",
   "name": "python",
   "nbconvert_exporter": "python",
   "pygments_lexer": "ipython3",
   "version": "3.12.7"
  }
 },
 "nbformat": 4,
 "nbformat_minor": 2
}
